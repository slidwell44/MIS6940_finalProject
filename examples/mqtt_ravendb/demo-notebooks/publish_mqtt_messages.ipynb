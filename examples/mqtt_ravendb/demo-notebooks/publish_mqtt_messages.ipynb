{
 "cells": [
  {
   "cell_type": "code",
   "id": "initial_id",
   "metadata": {
    "collapsed": true,
    "ExecuteTime": {
     "end_time": "2024-11-14T21:33:06.516101Z",
     "start_time": "2024-11-14T21:33:04.145833Z"
    }
   },
   "source": [
    "from src.utils.hivemq import RavenDevPubBroker\n",
    "from src.utils.hivemq.models import SimplePublish\n",
    "\n",
    "import time"
   ],
   "outputs": [],
   "execution_count": 1
  },
  {
   "metadata": {},
   "cell_type": "markdown",
   "source": "## Publish Hello World",
   "id": "1f593cbed36738a1"
  },
  {
   "metadata": {
    "ExecuteTime": {
     "end_time": "2024-11-14T15:31:48.433070Z",
     "start_time": "2024-11-14T15:31:47.358404Z"
    }
   },
   "cell_type": "code",
   "source": [
    "message = SimplePublish(\"Hello World\")\n",
    "\n",
    "hello_world_pub_broker = RavenDevPubBroker()\n",
    "hello_world_pub_broker.connect()\n",
    "hello_world_pub_broker.publish(\n",
    "    topic=\"_ravendb/examples/hello-world\",\n",
    "    payload=message.to_json(),\n",
    ")\n",
    "\n",
    "\n",
    "time.sleep(1)\n",
    "\n",
    "hello_world_pub_broker.disconnect()"
   ],
   "id": "8faf035ae3e40912",
   "outputs": [
    {
     "name": "stderr",
     "output_type": "stream",
     "text": [
      "2024-11-14 10:31:47,391 | src.utils.hivemq.base.mqtt_pub_client | DEBUG | CA Certificate: C:\\Users\\sl3789\\PycharmProjects\\hivemqravendbdemo\\src\\utils\\hivemq\\base\\certs\\CAChain.crt\n",
      "2024-11-14 10:31:47,425 | src.utils.hivemq.base.mqtt_pub_client | DEBUG | Connect function returned with code 0 (0 means success)\n",
      "2024-11-14 10:31:47,426 | src.utils.hivemq.base.mqtt_pub_client | DEBUG | Publishing to topic _ravendb/examples/hello-world with QoS 1 and retain=True\n",
      "2024-11-14 10:31:47,428 | src.utils.hivemq.base.mqtt_pub_client | DEBUG | Publish result: 0, mid: 1\n",
      "2024-11-14 10:31:48,430 | src.utils.hivemq.base.mqtt_pub_client | DEBUG | Disconnecting MQTT Broker\n"
     ]
    }
   ],
   "execution_count": 23
  },
  {
   "metadata": {},
   "cell_type": "markdown",
   "source": "## Publish Change",
   "id": "762e131b99377e50"
  },
  {
   "metadata": {
    "ExecuteTime": {
     "end_time": "2024-11-14T21:33:17.256513Z",
     "start_time": "2024-11-14T21:33:16.174875Z"
    }
   },
   "cell_type": "code",
   "source": [
    "message = SimplePublish(\"Hello Simon\")\n",
    "\n",
    "hello_world_pub_broker = RavenDevPubBroker()\n",
    "hello_world_pub_broker.connect()\n",
    "hello_world_pub_broker.publish(\n",
    "    topic=\"_ravendb/examples/hello-world\",\n",
    "    payload=message.to_json(),\n",
    ")\n",
    "\n",
    "\n",
    "time.sleep(1)\n",
    "\n",
    "hello_world_pub_broker.disconnect()"
   ],
   "id": "a2f1c3c7b33e8666",
   "outputs": [
    {
     "name": "stderr",
     "output_type": "stream",
     "text": [
      "2024-11-14 16:33:16,189 | src.utils.hivemq.base.mqtt_pub_client | DEBUG | CA Certificate: C:\\Users\\sl3789\\PycharmProjects\\hivemqravendbdemo\\src\\utils\\hivemq\\base\\certs\\CAChain.crt\n",
      "2024-11-14 16:33:16,248 | src.utils.hivemq.base.mqtt_pub_client | DEBUG | Connect function returned with code 0 (0 means success)\n",
      "2024-11-14 16:33:16,249 | src.utils.hivemq.base.mqtt_pub_client | DEBUG | Publishing to topic _ravendb/examples/hello-world with QoS 1 and retain=True\n",
      "2024-11-14 16:33:16,250 | src.utils.hivemq.base.mqtt_pub_client | DEBUG | Publish result: 0, mid: 1\n",
      "2024-11-14 16:33:17,252 | src.utils.hivemq.base.mqtt_pub_client | DEBUG | Disconnecting MQTT Broker\n"
     ]
    }
   ],
   "execution_count": 2
  },
  {
   "metadata": {},
   "cell_type": "markdown",
   "source": "## Delete Message",
   "id": "8289fb8a986f1f67"
  },
  {
   "metadata": {
    "ExecuteTime": {
     "end_time": "2024-11-14T15:02:38.284695Z",
     "start_time": "2024-11-14T15:02:37.236740Z"
    }
   },
   "cell_type": "code",
   "source": [
    "message = SimplePublish(\"\")\n",
    "\n",
    "hello_world_pub_broker = RavenDevPubBroker()\n",
    "hello_world_pub_broker.connect()\n",
    "hello_world_pub_broker.publish(\n",
    "    topic=\"_ravendb/examples/hello-world\",\n",
    "    payload=message.to_json(),\n",
    ")\n",
    "\n",
    "\n",
    "time.sleep(1)\n",
    "\n",
    "hello_world_pub_broker.disconnect()"
   ],
   "id": "9e0a4a2ad8a65212",
   "outputs": [
    {
     "name": "stderr",
     "output_type": "stream",
     "text": [
      "2024-11-14 10:02:37,249 | src.utils.hivemq.base.mqtt_pub_client | DEBUG | CA Certificate: C:\\Users\\sl3789\\PycharmProjects\\hivemqravendbdemo\\src\\utils\\hivemq\\base\\certs\\CAChain.crt\n",
      "2024-11-14 10:02:37,269 | src.utils.hivemq.base.mqtt_pub_client | DEBUG | Connect function returned with code 0 (0 means success)\n",
      "2024-11-14 10:02:37,270 | src.utils.hivemq.base.mqtt_pub_client | DEBUG | Publishing to topic _ravendb/examples/hello-world with QoS 1 and retain=True\n",
      "2024-11-14 10:02:37,272 | src.utils.hivemq.base.mqtt_pub_client | DEBUG | Publish result: 0, mid: 1\n",
      "2024-11-14 10:02:38,278 | src.utils.hivemq.base.mqtt_pub_client | DEBUG | Disconnecting MQTT Broker\n"
     ]
    }
   ],
   "execution_count": 9
  }
 ],
 "metadata": {
  "kernelspec": {
   "display_name": "Python 3",
   "language": "python",
   "name": "python3"
  },
  "language_info": {
   "codemirror_mode": {
    "name": "ipython",
    "version": 2
   },
   "file_extension": ".py",
   "mimetype": "text/x-python",
   "name": "python",
   "nbconvert_exporter": "python",
   "pygments_lexer": "ipython2",
   "version": "2.7.6"
  }
 },
 "nbformat": 4,
 "nbformat_minor": 5
}
