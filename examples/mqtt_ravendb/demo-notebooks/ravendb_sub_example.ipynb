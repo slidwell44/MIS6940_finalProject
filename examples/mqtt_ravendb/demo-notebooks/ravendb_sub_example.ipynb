{
 "cells": [
  {
   "cell_type": "code",
   "id": "initial_id",
   "metadata": {
    "collapsed": true,
    "ExecuteTime": {
     "end_time": "2024-11-14T21:32:50.996010Z",
     "start_time": "2024-11-14T21:32:50.990244Z"
    }
   },
   "source": [
    "from src.utils.hivemq import RavenDevSubBroker\n",
    "\n",
    "import time"
   ],
   "outputs": [],
   "execution_count": 2
  },
  {
   "metadata": {
    "ExecuteTime": {
     "end_time": "2024-11-14T22:20:37.883176Z",
     "start_time": "2024-11-14T21:32:52.501814Z"
    }
   },
   "cell_type": "code",
   "source": [
    "raven_dev_sub_broker = RavenDevSubBroker(client_id=\"raven-changes-api-example\")\n",
    "raven_dev_sub_broker.connect()\n",
    "raven_dev_sub_broker.subscribe(\"_ravendb/#\")\n",
    "raven_dev_sub_broker.loop_start()\n",
    "\n",
    "try:\n",
    "    while True:\n",
    "        time.sleep(1)\n",
    "except KeyboardInterrupt:\n",
    "    print(\"Exiting...\")\n",
    "finally:\n",
    "    raven_dev_sub_broker.loop_stop()\n",
    "    raven_dev_sub_broker.disconnect()"
   ],
   "id": "be91afa3a7832e9",
   "outputs": [
    {
     "name": "stderr",
     "output_type": "stream",
     "text": [
      "2024-11-14 16:32:52,515 | src.utils.hivemq.base.mqtt_sub_client | DEBUG | CA Certificate: C:\\Users\\sl3789\\PycharmProjects\\hivemqravendbdemo\\src\\utils\\hivemq\\base\\certs\\CAChain.crt\n",
      "2024-11-14 16:32:52,572 | src.utils.hivemq.base.mqtt_sub_client | DEBUG | Connect function returned with code 0 (0 means success)\n",
      "2024-11-14 16:32:52,573 | src.utils.hivemq.base.mqtt_sub_client | DEBUG | Subscribing to topic _ravendb/#\n",
      "2024-11-14 16:32:52,575 | src.utils.hivemq.base.mqtt_sub_client | DEBUG | Starting mqtt loop process\n",
      "2024-11-14 16:32:52,579 | src.utils.hivemq.base.mqtt_sub_client | DEBUG | Connected with result code 0\n",
      "2024-11-14 16:32:52,585 | src.utils.hivemq.raven_dev_sub_broker | DEBUG | Message received on topic _ravendb/examples/hello-world: {'message': 'Hello World'}\n",
      "2024-11-14 16:32:52,604 | urllib3.connectionpool | DEBUG | Starting new HTTP connection (1): localhost:8080\n",
      "2024-11-14 16:32:52,618 | urllib3.connectionpool | DEBUG | http://localhost:8080 \"GET /topology?name=Mcp HTTP/11\" 200 None\n",
      "2024-11-14 16:32:52,630 | urllib3.connectionpool | DEBUG | Starting new HTTP connection (1): localhost:8080\n",
      "2024-11-14 16:32:52,646 | urllib3.connectionpool | DEBUG | http://localhost:8080 \"POST /databases/Mcp/bulk_docs HTTP/11\" 201 None\n",
      "2024-11-14 16:32:52,648 | src.utils.hivemq.raven_dev_sub_broker | DEBUG | Stored _ravendb/examples/hello-world in RavenDB\n",
      "2024-11-14 16:33:16,255 | src.utils.hivemq.raven_dev_sub_broker | DEBUG | Message received on topic _ravendb/examples/hello-world: {'message': 'Hello Simon'}\n",
      "2024-11-14 16:33:16,259 | urllib3.connectionpool | DEBUG | Starting new HTTP connection (1): localhost:8080\n",
      "2024-11-14 16:33:16,273 | urllib3.connectionpool | DEBUG | http://localhost:8080 \"POST /databases/Mcp/bulk_docs HTTP/11\" 201 None\n",
      "2024-11-14 16:33:16,276 | src.utils.hivemq.raven_dev_sub_broker | DEBUG | Stored _ravendb/examples/hello-world in RavenDB\n",
      "2024-11-14 17:20:37,135 | src.utils.hivemq.base.mqtt_sub_client | DEBUG | Stopping mqtt loop process\n"
     ]
    },
    {
     "name": "stdout",
     "output_type": "stream",
     "text": [
      "Exiting...\n"
     ]
    },
    {
     "name": "stderr",
     "output_type": "stream",
     "text": [
      "2024-11-14 17:20:37,876 | src.utils.hivemq.base.mqtt_sub_client | DEBUG | Disconnecting MQTT Broker\n"
     ]
    }
   ],
   "execution_count": 3
  }
 ],
 "metadata": {
  "kernelspec": {
   "display_name": "Python 3",
   "language": "python",
   "name": "python3"
  },
  "language_info": {
   "codemirror_mode": {
    "name": "ipython",
    "version": 2
   },
   "file_extension": ".py",
   "mimetype": "text/x-python",
   "name": "python",
   "nbconvert_exporter": "python",
   "pygments_lexer": "ipython2",
   "version": "2.7.6"
  }
 },
 "nbformat": 4,
 "nbformat_minor": 5
}
