{
 "cells": [
  {
   "metadata": {},
   "cell_type": "markdown",
   "source": "# Work Order Requests Notebook",
   "id": "d55f04bdb0f0d856"
  },
  {
   "metadata": {
    "ExecuteTime": {
     "end_time": "2024-12-01T02:03:15.268986Z",
     "start_time": "2024-12-01T02:03:15.265105Z"
    }
   },
   "cell_type": "code",
   "source": [
    "import json\n",
    "import requests\n",
    "\n",
    "BASE_URL = \"http://localhost:7070/workorder\""
   ],
   "id": "be3b4ee8cab1d7a7",
   "outputs": [],
   "execution_count": 10
  },
  {
   "metadata": {},
   "cell_type": "markdown",
   "source": "## Create Work Order",
   "id": "91ab19a2cf08492d"
  },
  {
   "cell_type": "code",
   "id": "initial_id",
   "metadata": {
    "collapsed": true,
    "ExecuteTime": {
     "end_time": "2024-12-01T02:03:37.850445Z",
     "start_time": "2024-12-01T02:03:35.799347Z"
    }
   },
   "source": [
    "workorder = {\n",
    "    \"WorkorderNumber\": \"Test2\",\n",
    "    \"Revision\": \"1A\",\n",
    "    \"Quantity\": 5.00\n",
    "}\n",
    "\n",
    "response = requests.post(BASE_URL, json=workorder)\n",
    "print(json.dumps(response.json(), indent=4))"
   ],
   "outputs": [
    {
     "name": "stdout",
     "output_type": "stream",
     "text": [
      "{\n",
      "    \"Id\": \"b4f0320a-d97f-4f80-ade7-adbaea1fafaf\",\n",
      "    \"WorkorderNumber\": \"Test2\",\n",
      "    \"Revision\": \"1A\",\n",
      "    \"Quantity\": 5.0\n",
      "}\n"
     ]
    }
   ],
   "execution_count": 12
  },
  {
   "metadata": {},
   "cell_type": "markdown",
   "source": "## Read Work Order",
   "id": "47205439f8cd8acb"
  },
  {
   "metadata": {
    "ExecuteTime": {
     "end_time": "2024-12-01T02:05:40.410668Z",
     "start_time": "2024-12-01T02:05:38.331935Z"
    }
   },
   "cell_type": "code",
   "source": [
    "workorderid = \"b4f0320a-d97f-4f80-ade7-adbaea1fafaf\"\n",
    "\n",
    "response = requests.get(BASE_URL + f\"/{workorderid}\")\n",
    "print(json.dumps(response.json(), indent=4))"
   ],
   "id": "68750f4d092cb8b7",
   "outputs": [
    {
     "name": "stdout",
     "output_type": "stream",
     "text": [
      "{\n",
      "    \"Id\": \"b4f0320a-d97f-4f80-ade7-adbaea1fafaf\",\n",
      "    \"WorkorderNumber\": \"Test2\",\n",
      "    \"Revision\": \"1A\",\n",
      "    \"Quantity\": 5.0\n",
      "}\n"
     ]
    }
   ],
   "execution_count": 14
  },
  {
   "metadata": {},
   "cell_type": "markdown",
   "source": "## Update Work Order",
   "id": "aa945f320c120179"
  },
  {
   "metadata": {
    "ExecuteTime": {
     "end_time": "2024-12-01T02:07:16.599288Z",
     "start_time": "2024-12-01T02:07:12.523260Z"
    }
   },
   "cell_type": "code",
   "source": [
    "workorderid = \"b4f0320a-d97f-4f80-ade7-adbaea1fafaf\"\n",
    "\n",
    "workorder = {\n",
    "    \"WorkorderNumber\": \"Test2\",\n",
    "    \"Revision\": \"2A\",\n",
    "    \"Quantity\": 4.00\n",
    "}\n",
    "\n",
    "response = requests.put(BASE_URL + f\"/{workorderid}\", json=workorder)\n",
    "\n",
    "if response.status_code == 200:\n",
    "    response = requests.get(BASE_URL + f\"/{workorderid}\")\n",
    "    print(json.dumps(response.json(), indent=4))\n",
    "else:\n",
    "    print(\"Failed to update workorder\")"
   ],
   "id": "6cb32598f13f346e",
   "outputs": [
    {
     "name": "stdout",
     "output_type": "stream",
     "text": [
      "{\n",
      "    \"Id\": \"b4f0320a-d97f-4f80-ade7-adbaea1fafaf\",\n",
      "    \"WorkorderNumber\": \"Test2\",\n",
      "    \"Revision\": \"2A\",\n",
      "    \"Quantity\": 4.0\n",
      "}\n"
     ]
    }
   ],
   "execution_count": 15
  },
  {
   "metadata": {},
   "cell_type": "markdown",
   "source": "## Delete Work Order",
   "id": "51b19d5094c7d6d9"
  },
  {
   "metadata": {
    "ExecuteTime": {
     "end_time": "2024-12-01T02:08:32.555856Z",
     "start_time": "2024-12-01T02:08:30.453400Z"
    }
   },
   "cell_type": "code",
   "source": [
    "workorderid = \"DDA22543-E706-4A18-9C68-605D6A24071E\"\n",
    "\n",
    "response = requests.delete(BASE_URL + f\"/{workorderid}\")\n",
    "\n",
    "if response.status_code == 200:\n",
    "    print(\"Successfully deleted workorder\")\n",
    "else:\n",
    "    print(\"Failed to delete workorder\")"
   ],
   "id": "37579a4de99b6cbb",
   "outputs": [
    {
     "name": "stdout",
     "output_type": "stream",
     "text": [
      "Successfully deleted workorder\n"
     ]
    }
   ],
   "execution_count": 16
  }
 ],
 "metadata": {
  "kernelspec": {
   "display_name": "Python 3",
   "language": "python",
   "name": "python3"
  },
  "language_info": {
   "codemirror_mode": {
    "name": "ipython",
    "version": 2
   },
   "file_extension": ".py",
   "mimetype": "text/x-python",
   "name": "python",
   "nbconvert_exporter": "python",
   "pygments_lexer": "ipython2",
   "version": "2.7.6"
  }
 },
 "nbformat": 4,
 "nbformat_minor": 5
}
